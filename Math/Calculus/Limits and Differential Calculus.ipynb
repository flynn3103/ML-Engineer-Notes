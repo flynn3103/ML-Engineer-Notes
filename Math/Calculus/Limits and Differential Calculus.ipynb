{
 "cells": [
  {
   "cell_type": "markdown",
   "metadata": {},
   "source": [
    "# Limits and Continuity\n",
    "\n",
    "https://machinelearningmastery.com/a-gentle-introduction-to-limits-and-continuity/"
   ]
  },
  {
   "cell_type": "markdown",
   "metadata": {},
   "source": [
    "# Evaluating Limits\n",
    "\n",
    "https://machinelearningmastery.com/a-gentle-introduction-to-evaluating-limits/"
   ]
  },
  {
   "cell_type": "markdown",
   "metadata": {},
   "source": [
    "# Function Derivatives\n",
    "\n",
    "https://machinelearningmastery.com/a-gentle-introduction-to-function-derivatives/"
   ]
  },
  {
   "cell_type": "markdown",
   "metadata": {},
   "source": [
    "# Continuous Functions\n",
    "\n",
    "https://machinelearningmastery.com/continuous-functions/"
   ]
  },
  {
   "cell_type": "markdown",
   "metadata": {},
   "source": [
    "# Derivatives of Powers and Polynomials\n",
    "https://machinelearningmastery.com/a-gentle-introduction-to-derivatives-of-powers-and-polynomials/"
   ]
  },
  {
   "cell_type": "markdown",
   "metadata": {},
   "source": [
    "# Derivative of the Sine and Cosine\n",
    "https://machinelearningmastery.com/derivative-of-the-sine-and-cosine/"
   ]
  },
  {
   "cell_type": "markdown",
   "metadata": {},
   "source": [
    "# The Power, Product, and Quotient Rules\n",
    "https://machinelearningmastery.com/the-power-product-and-quotient-rules/"
   ]
  },
  {
   "cell_type": "markdown",
   "metadata": {},
   "source": [
    "# Indeterminate Forms and L’Hopital’s Rule\n",
    "https://machinelearningmastery.com/a-gentle-introduction-to-indeterminate-forms-and-lhospitals-rule/"
   ]
  },
  {
   "cell_type": "markdown",
   "metadata": {},
   "source": [
    "# Applications of Derivatives\n",
    "https://machinelearningmastery.com/?s=Applications+of+Derivatives&post_type=post&submit=Search"
   ]
  },
  {
   "cell_type": "markdown",
   "metadata": {},
   "source": [
    "# Slopes and Tangents\n",
    "https://machinelearningmastery.com/a-gentle-introduction-to-slopes-and-tangents/"
   ]
  },
  {
   "cell_type": "markdown",
   "metadata": {},
   "source": [
    "# Differential and Integral Calculus\n",
    "https://machinelearningmastery.com/differential-and-integral-calculus-differentiate-with-respect-to-anything/"
   ]
  }
 ],
 "metadata": {
  "interpreter": {
   "hash": "916dbcbb3f70747c44a77c7bcd40155683ae19c65e1c03b4aa3499c5328201f1"
  },
  "kernelspec": {
   "display_name": "Python 3.9.5 64-bit",
   "language": "python",
   "name": "python3"
  },
  "language_info": {
   "name": "python",
   "version": "3.9.5"
  },
  "orig_nbformat": 4
 },
 "nbformat": 4,
 "nbformat_minor": 2
}
