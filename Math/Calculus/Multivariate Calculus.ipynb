{
 "cells": [
  {
   "cell_type": "markdown",
   "metadata": {},
   "source": [
    "# Introduction to Multivariate Calculus\n",
    "\n",
    "https://machinelearningmastery.com/a-gentle-introduction-to-multivariate-calculus/"
   ]
  },
  {
   "cell_type": "markdown",
   "metadata": {},
   "source": [
    "# Vector-Valued Functions\n",
    "https://machinelearningmastery.com/a-gentle-introduction-to-vector-valued-functions/"
   ]
  },
  {
   "cell_type": "markdown",
   "metadata": {},
   "source": [
    "# Partial Derivatives and Gradient Vectors\n",
    "\n",
    "https://machinelearningmastery.com/a-gentle-introduction-to-partial-derivatives-and-gradient-vectors/"
   ]
  },
  {
   "cell_type": "markdown",
   "metadata": {},
   "source": [
    "# Higher-Order Derivatives\n",
    "https://machinelearningmastery.com/higher-order-derivatives/"
   ]
  },
  {
   "cell_type": "markdown",
   "metadata": {},
   "source": [
    "# The chain rule\n",
    "https://machinelearningmastery.com/the-chain-rule-of-calculus-even-more-functions/"
   ]
  },
  {
   "cell_type": "markdown",
   "metadata": {},
   "source": [
    "# Jacobian\n",
    "https://machinelearningmastery.com/a-gentle-introduction-to-the-jacobian/"
   ]
  },
  {
   "cell_type": "markdown",
   "metadata": {},
   "source": [
    "# Hessian Matrices\n",
    "https://machinelearningmastery.com/a-gentle-introduction-to-hessian-matrices/"
   ]
  },
  {
   "cell_type": "markdown",
   "metadata": {},
   "source": [
    "# Laplacian\n",
    "https://machinelearningmastery.com/a-gentle-introduction-to-the-laplacian/\n"
   ]
  }
 ],
 "metadata": {
  "interpreter": {
   "hash": "916dbcbb3f70747c44a77c7bcd40155683ae19c65e1c03b4aa3499c5328201f1"
  },
  "kernelspec": {
   "display_name": "Python 3.9.5 64-bit",
   "language": "python",
   "name": "python3"
  },
  "language_info": {
   "name": "python",
   "version": "3.9.5"
  },
  "orig_nbformat": 4
 },
 "nbformat": 4,
 "nbformat_minor": 2
}
