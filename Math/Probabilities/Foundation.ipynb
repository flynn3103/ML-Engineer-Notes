{
 "cells": [
  {
   "cell_type": "markdown",
   "metadata": {},
   "source": [
    "# Joint, Marginal, and Conditional Probability\n",
    "\n",
    "https://machinelearningmastery.com/joint-marginal-and-conditional-probability-for-machine-learning/\n",
    "\n",
    "## How to Develop an Intuition ??\n",
    "https://machinelearningmastery.com/how-to-calculate-joint-marginal-and-conditional-probability/"
   ]
  }
 ],
 "metadata": {
  "interpreter": {
   "hash": "19985ac8a88737d3c8b7fbc1bc9ac2991a55fab1b7ef4317ae756c7f86ac40fa"
  },
  "kernelspec": {
   "display_name": "Python 3.9.7 ('base')",
   "language": "python",
   "name": "python3"
  },
  "language_info": {
   "name": "python",
   "version": "3.9.7"
  },
  "orig_nbformat": 4
 },
 "nbformat": 4,
 "nbformat_minor": 2
}
