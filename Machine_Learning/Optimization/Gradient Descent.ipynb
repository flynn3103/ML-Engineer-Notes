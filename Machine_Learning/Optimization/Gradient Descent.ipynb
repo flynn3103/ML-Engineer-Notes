{
 "cells": [
  {
   "cell_type": "markdown",
   "metadata": {},
   "source": [
    "# Gradient Descent Optimization from Scratch\n",
    "https://machinelearningmastery.com/gradient-descent-optimization-from-scratch/#:~:text=Gradient%20descent%20is%20an%20optimization,a%20few%20lines%20of%20code."
   ]
  },
  {
   "cell_type": "markdown",
   "metadata": {},
   "source": [
    "# Gradient Descent with Momentum\n",
    "https://machinelearningmastery.com/gradient-descent-with-momentum-from-scratch/"
   ]
  },
  {
   "cell_type": "markdown",
   "metadata": {},
   "source": [
    "# Gradient Descent with AdaGrad\n",
    "https://machinelearningmastery.com/gradient-descent-with-adagrad-from-scratch/#:~:text=Gradient%20descent%20is%20an%20optimization,rate)%20for%20each%20input%20variable."
   ]
  },
  {
   "cell_type": "markdown",
   "metadata": {},
   "source": [
    "# Gradient Descent with RMSProp\n",
    "https://machinelearningmastery.com/gradient-descent-with-rmsprop-from-scratch/#:~:text=Root%20Mean%20Squared%20Propagation%2C%20or,step%20size%20for%20each%20parameter."
   ]
  },
  {
   "cell_type": "markdown",
   "metadata": {},
   "source": [
    "# Gradient Descent with Adadelta\n",
    "https://machinelearningmastery.com/gradient-descent-with-adadelta-from-scratch/#:~:text=Gradient%20descent%20is%20an%20optimization%20algorithm%20that%20uses%20the%20gradient,of%20partial%20derivatives%2C%20called%20Adadelta."
   ]
  },
  {
   "cell_type": "markdown",
   "metadata": {},
   "source": [
    "# Adam Optimization Algorithm\n",
    "https://machinelearningmastery.com/adam-optimization-algorithm-for-deep-learning/#:~:text=Adam%20is%20a%20replacement%20optimization,sparse%20gradients%20on%20noisy%20problems."
   ]
  }
 ],
 "metadata": {
  "interpreter": {
   "hash": "19985ac8a88737d3c8b7fbc1bc9ac2991a55fab1b7ef4317ae756c7f86ac40fa"
  },
  "kernelspec": {
   "display_name": "Python 3.9.7 ('base')",
   "language": "python",
   "name": "python3"
  },
  "language_info": {
   "name": "python",
   "version": "3.9.7"
  },
  "orig_nbformat": 4
 },
 "nbformat": 4,
 "nbformat_minor": 2
}
