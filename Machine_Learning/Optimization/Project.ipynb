{
 "cells": [
  {
   "cell_type": "markdown",
   "metadata": {},
   "source": [
    "# Use Optimization Algorithms to Manually Fit Regression Models\n",
    "https://machinelearningmastery.com/optimize-regression-models/"
   ]
  },
  {
   "cell_type": "markdown",
   "metadata": {},
   "source": [
    "# Optimize Neural Network Models\n",
    "https://machinelearningmastery.com/manually-optimize-neural-networks/#:~:text=Optimize%20Neural%20Networks,-Deep%20learning%20or&text=Models%20are%20trained%20by%20repeatedly,stochastic%20gradient%20descent%20optimization%20algorithm."
   ]
  },
  {
   "cell_type": "markdown",
   "metadata": {},
   "source": [
    "# Feature Selection with Stochastic Optimization Algorithms\n",
    "https://machinelearningmastery.com/feature-selection-with-optimization/#:~:text=Typically%2C%20a%20simpler%20and%20better,algorithms%20that%20can%20be%20used."
   ]
  },
  {
   "cell_type": "markdown",
   "metadata": {},
   "source": [
    "# Manually Optimize Machine Learning Model Hyperparameters\n",
    "https://machinelearningmastery.com/manually-optimize-hyperparameters/#:~:text=Manual%20Hyperparameter%20Optimization,-Machine%20learning%20models&text=A%20better%20approach%20is%20to,hyperparameter%20optimization%2C%20or%20hyperparameter%20tuning."
   ]
  }
 ],
 "metadata": {
  "interpreter": {
   "hash": "19985ac8a88737d3c8b7fbc1bc9ac2991a55fab1b7ef4317ae756c7f86ac40fa"
  },
  "kernelspec": {
   "display_name": "Python 3.9.7 ('base')",
   "language": "python",
   "name": "python3"
  },
  "language_info": {
   "name": "python",
   "version": "3.9.7"
  },
  "orig_nbformat": 4
 },
 "nbformat": 4,
 "nbformat_minor": 2
}
