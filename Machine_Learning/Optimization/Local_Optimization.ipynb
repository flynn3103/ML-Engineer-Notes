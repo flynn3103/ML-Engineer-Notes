{
 "cells": [
  {
   "cell_type": "markdown",
   "metadata": {},
   "source": [
    "# What Is a Gradient in Machine Learning?\n",
    "https://machinelearningmastery.com/gradient-in-machine-learning/"
   ]
  },
  {
   "cell_type": "markdown",
   "metadata": {},
   "source": [
    "# Univariate Function Optimization\n",
    "https://machinelearningmastery.com/univariate-function-optimization-in-python/#:~:text=Univariate%20function%20optimization%20involves%20finding,that%20has%20a%20single%20hyperparameter."
   ]
  },
  {
   "cell_type": "markdown",
   "metadata": {},
   "source": [
    "# Pattern Search: Nelder-Mead Optimization\n",
    "https://machinelearningmastery.com/how-to-use-nelder-mead-optimization-in-python/#:~:text=The%20Nelder%2DMead%20optimization%20algorithm,and%20multimodal%20function%20optimization%20problems."
   ]
  },
  {
   "cell_type": "markdown",
   "metadata": {},
   "source": [
    "#  Second Order: The BFGS and L-BFGS-B Optimization Algorithms\n",
    "https://machinelearningmastery.com/bfgs-optimization-in-python/"
   ]
  },
  {
   "cell_type": "markdown",
   "metadata": {},
   "source": [
    "# Least Square: Curve Fitting with SciPy\n",
    "https://machinelearningmastery.com/curve-fitting-with-python/"
   ]
  },
  {
   "cell_type": "markdown",
   "metadata": {},
   "source": [
    "# Stochastic Hill Climbing\n",
    "https://machinelearningmastery.com/stochastic-hill-climbing-in-python-from-scratch/"
   ]
  },
  {
   "cell_type": "markdown",
   "metadata": {},
   "source": [
    "# Iterated Local Search\n",
    "https://machinelearningmastery.com/iterated-local-search-from-scratch-in-python/"
   ]
  }
 ],
 "metadata": {
  "interpreter": {
   "hash": "19985ac8a88737d3c8b7fbc1bc9ac2991a55fab1b7ef4317ae756c7f86ac40fa"
  },
  "kernelspec": {
   "display_name": "Python 3.9.7 ('base')",
   "language": "python",
   "name": "python3"
  },
  "language_info": {
   "name": "python",
   "version": "3.9.7"
  },
  "orig_nbformat": 4
 },
 "nbformat": 4,
 "nbformat_minor": 2
}
