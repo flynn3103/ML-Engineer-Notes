{
 "cells": [
  {
   "cell_type": "markdown",
   "metadata": {},
   "source": [
    "# Bagged Decision Trees Ensemble\n",
    "https://machinelearningmastery.com/bagging-ensemble-with-python/"
   ]
  },
  {
   "cell_type": "markdown",
   "metadata": {},
   "source": [
    "# Random Subspace Ensemble\n",
    "https://machinelearningmastery.com/random-subspace-ensemble-with-python/"
   ]
  },
  {
   "cell_type": "markdown",
   "metadata": {},
   "source": [
    "# Feature Selection Bagging Ensemble\n",
    "https://machinelearningmastery.com/feature-selection-subspace-ensemble-in-python/#:~:text=The%20random%20subspace%20method%20or,columns%20in%20the%20training%20dataset.&text=Different%20subsets%20of%20features%2C%20or,different%20views%20on%20the%20data."
   ]
  },
  {
   "cell_type": "markdown",
   "metadata": {},
   "source": [
    "# Random Forest Ensemble\n",
    "https://machinelearningmastery.com/random-forest-ensemble-in-python/#:~:text=Random%20forest%20is%20an%20ensemble%20of%20decision%20tree%20algorithms.,for%20classification%20and%20regression%20problems.&text=A%20prediction%20on%20a%20classification,the%20trees%20in%20the%20ensemble."
   ]
  },
  {
   "cell_type": "markdown",
   "metadata": {},
   "source": [
    "# Extra Trees Ensemble\n",
    "https://machinelearningmastery.com/extra-trees-ensemble-with-python/"
   ]
  },
  {
   "cell_type": "markdown",
   "metadata": {},
   "source": [
    "# Data Preparation Bagging Ensemble\n",
    "https://machinelearningmastery.com/bagging-ensemble-with-different-data-transformations/"
   ]
  }
 ],
 "metadata": {
  "interpreter": {
   "hash": "19985ac8a88737d3c8b7fbc1bc9ac2991a55fab1b7ef4317ae756c7f86ac40fa"
  },
  "kernelspec": {
   "display_name": "Python 3.9.7 ('base')",
   "language": "python",
   "name": "python3"
  },
  "language_info": {
   "name": "python",
   "version": "3.9.7"
  },
  "orig_nbformat": 4
 },
 "nbformat": 4,
 "nbformat_minor": 2
}
