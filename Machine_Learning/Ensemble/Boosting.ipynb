{
 "cells": [
  {
   "cell_type": "markdown",
   "metadata": {},
   "source": [
    "# Strong Learners vs. Weak Learners\n",
    "https://machinelearningmastery.com/strong-learners-vs-weak-learners-for-ensemble-learning/#:~:text=Specifically%2C%20you%20learned%3A-,Weak%20learners%20are%20models%20that%20perform%20slightly%20better%20than%20random,boosting%20class%20of%20ensemble%20methods."
   ]
  },
  {
   "cell_type": "markdown",
   "metadata": {},
   "source": [
    "# AdaBoost Ensemble\n",
    "https://machinelearningmastery.com/adaboost-ensemble-in-python/"
   ]
  },
  {
   "cell_type": "markdown",
   "metadata": {},
   "source": [
    "# Gradient Boosting Ensemble\n",
    "https://machinelearningmastery.com/gradient-boosting-machine-ensemble-in-python/"
   ]
  },
  {
   "cell_type": "markdown",
   "metadata": {},
   "source": [
    "# Extreme Gradient Boosting Ensemble\n",
    "https://machinelearningmastery.com/extreme-gradient-boosting-ensemble-in-python/"
   ]
  },
  {
   "cell_type": "markdown",
   "metadata": {},
   "source": [
    "# Light Gradient Boosting Machine Ensemble\n",
    "https://machinelearningmastery.com/light-gradient-boosted-machine-lightgbm-ensemble/"
   ]
  }
 ],
 "metadata": {
  "interpreter": {
   "hash": "19985ac8a88737d3c8b7fbc1bc9ac2991a55fab1b7ef4317ae756c7f86ac40fa"
  },
  "kernelspec": {
   "display_name": "Python 3.9.7 ('base')",
   "language": "python",
   "name": "python3"
  },
  "language_info": {
   "name": "python",
   "version": "3.9.7"
  },
  "orig_nbformat": 4
 },
 "nbformat": 4,
 "nbformat_minor": 2
}
