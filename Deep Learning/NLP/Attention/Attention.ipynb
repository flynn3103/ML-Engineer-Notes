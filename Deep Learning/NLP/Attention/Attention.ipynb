{
 "cells": [
  {
   "cell_type": "markdown",
   "metadata": {},
   "source": [
    "# A Bird’s Eye View of Research on Attention\n",
    "https://machinelearningmastery.com/a-birds-eye-view-of-research-on-attention/"
   ]
  },
  {
   "cell_type": "markdown",
   "metadata": {},
   "source": [
    "# A Tour of Attention-Based Architectures\n",
    "https://machinelearningmastery.com/a-tour-of-attention-based-architectures/"
   ]
  },
  {
   "cell_type": "markdown",
   "metadata": {},
   "source": [
    "# Attention Layer in RNN\n",
    "https://machinelearningmastery.com/adding-a-custom-attention-layer-to-recurrent-neural-network-in-keras/"
   ]
  },
  {
   "cell_type": "markdown",
   "metadata": {},
   "source": [
    "# Attention in LSTM\n",
    "https://machinelearningmastery.com/attention-long-short-term-memory-recurrent-neural-networks/"
   ]
  },
  {
   "cell_type": "markdown",
   "metadata": {},
   "source": [
    "# The Bahdanau Attention Mechanism\n",
    "https://machinelearningmastery.com/the-bahdanau-attention-mechanism/"
   ]
  },
  {
   "cell_type": "markdown",
   "metadata": {},
   "source": [
    "# The Luong Attention Mechanism\n",
    "https://machinelearningmastery.com/the-luong-attention-mechanism/"
   ]
  }
 ],
 "metadata": {
  "interpreter": {
   "hash": "b0fa6594d8f4cbf19f97940f81e996739fb7646882a419484c72d19e05852a7e"
  },
  "kernelspec": {
   "display_name": "Python 3.9.10 64-bit",
   "language": "python",
   "name": "python3"
  },
  "language_info": {
   "name": "python",
   "version": "3.9.10"
  },
  "orig_nbformat": 4
 },
 "nbformat": 4,
 "nbformat_minor": 2
}
