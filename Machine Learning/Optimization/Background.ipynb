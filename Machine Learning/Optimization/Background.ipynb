{
 "cells": [
  {
   "cell_type": "markdown",
   "metadata": {},
   "source": [
    "# A Gentle Introduction to Function Optimization\n",
    "https://machinelearningmastery.com/introduction-to-function-optimization/"
   ]
  },
  {
   "cell_type": "markdown",
   "metadata": {},
   "source": [
    "# No Free Lunch Theorem for Machine Learning\n",
    "https://machinelearningmastery.com/no-free-lunch-theorem-for-machine-learning/#:~:text=The%20No%20Free%20Lunch%20Theorem,averaged%20across%20all%20possible%20problems."
   ]
  },
  {
   "cell_type": "markdown",
   "metadata": {},
   "source": [
    "# Local Optimization Versus Global Optimization\n",
    "https://machinelearningmastery.com/local-optimization-versus-global-optimization/#:~:text=Local%20optimization%20involves%20finding%20the,problems%20that%20contain%20local%20optima."
   ]
  },
  {
   "cell_type": "markdown",
   "metadata": {},
   "source": [
    "# A Gentle Introduction to Premature Convergence\n",
    "https://machinelearningmastery.com/premature-convergence/"
   ]
  },
  {
   "cell_type": "markdown",
   "metadata": {},
   "source": [
    "# Visualization for Function Optimization in Python\n",
    "https://machinelearningmastery.com/visualization-for-function-optimization-in-python/"
   ]
  },
  {
   "cell_type": "markdown",
   "metadata": {},
   "source": [
    "# Stochastic Optimization Algorithms\n",
    "https://machinelearningmastery.com/stochastic-optimization-for-machine-learning/#:~:text=Stochastic%20optimization%20refers%20to%20the,optimization%20algorithms%20may%20get%20stuck."
   ]
  },
  {
   "cell_type": "markdown",
   "metadata": {},
   "source": [
    "# Random Search and Grid Search\n",
    "https://machinelearningmastery.com/hyperparameter-optimization-with-random-search-and-grid-search/"
   ]
  }
 ],
 "metadata": {
  "interpreter": {
   "hash": "19985ac8a88737d3c8b7fbc1bc9ac2991a55fab1b7ef4317ae756c7f86ac40fa"
  },
  "kernelspec": {
   "display_name": "Python 3.9.7 ('base')",
   "language": "python",
   "name": "python3"
  },
  "language_info": {
   "name": "python",
   "version": "3.9.7"
  },
  "orig_nbformat": 4
 },
 "nbformat": 4,
 "nbformat_minor": 2
}
