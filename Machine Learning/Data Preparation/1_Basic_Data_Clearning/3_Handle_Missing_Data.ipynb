{
 "cells": [
  {
   "cell_type": "markdown",
   "metadata": {},
   "source": [
    "# How to Handle Missing Data\n",
    "https://machinelearningmastery.com/handle-missing-data-python/"
   ]
  },
  {
   "cell_type": "code",
   "execution_count": 20,
   "metadata": {},
   "outputs": [
    {
     "name": "stdout",
     "output_type": "stream",
     "text": [
      "    0   1        2     3      4     5    6    7    8    9   ...    18    19  \\\n",
      "0  2.0   1   530101  38.5   66.0  28.0  3.0  3.0  NaN  2.0  ...  45.0   8.4   \n",
      "1  1.0   1   534817  39.2   88.0  20.0  NaN  NaN  4.0  1.0  ...  50.0  85.0   \n",
      "2  2.0   1   530334  38.3   40.0  24.0  1.0  1.0  3.0  1.0  ...  33.0   6.7   \n",
      "3  1.0   9  5290409  39.1  164.0  84.0  4.0  1.0  6.0  2.0  ...  48.0   7.2   \n",
      "4  2.0   1   530255  37.3  104.0  35.0  NaN  NaN  6.0  2.0  ...  74.0   7.4   \n",
      "\n",
      "    20   21   22  23     24  25  26  27  \n",
      "0  NaN  NaN  2.0   2  11300   0   0   2  \n",
      "1  2.0  2.0  3.0   2   2208   0   0   2  \n",
      "2  NaN  NaN  1.0   2      0   0   0   1  \n",
      "3  3.0  5.3  2.0   1   2208   0   0   1  \n",
      "4  NaN  NaN  2.0   2   4300   0   0   2  \n",
      "\n",
      "[5 rows x 28 columns]\n"
     ]
    }
   ],
   "source": [
    "# load and summarize the dataset\n",
    "from pandas import read_csv\n",
    "# load the dataset\n",
    "dataframe = read_csv( '../../Datasets/horse-colic.csv' , header=None, na_values= '?')\n",
    "# summarize the dataset\n",
    "print(dataframe.head())"
   ]
  },
  {
   "cell_type": "code",
   "execution_count": 21,
   "metadata": {},
   "outputs": [
    {
     "name": "stdout",
     "output_type": "stream",
     "text": [
      " > 0, Missing: 1 (0.3%) \n",
      " > 1, Missing: 0 (0.0%) \n",
      " > 2, Missing: 0 (0.0%) \n",
      " > 3, Missing: 60 (20.0%) \n",
      " > 4, Missing: 24 (8.0%) \n",
      " > 5, Missing: 58 (19.3%) \n",
      " > 6, Missing: 56 (18.7%) \n",
      " > 7, Missing: 69 (23.0%) \n",
      " > 8, Missing: 47 (15.7%) \n",
      " > 9, Missing: 32 (10.7%) \n",
      " > 10, Missing: 55 (18.3%) \n",
      " > 11, Missing: 44 (14.7%) \n",
      " > 12, Missing: 56 (18.7%) \n",
      " > 13, Missing: 104 (34.7%) \n",
      " > 14, Missing: 106 (35.3%) \n",
      " > 15, Missing: 247 (82.3%) \n",
      " > 16, Missing: 102 (34.0%) \n",
      " > 17, Missing: 118 (39.3%) \n",
      " > 18, Missing: 29 (9.7%) \n",
      " > 19, Missing: 33 (11.0%) \n",
      " > 20, Missing: 165 (55.0%) \n",
      " > 21, Missing: 198 (66.0%) \n",
      " > 22, Missing: 1 (0.3%) \n",
      " > 23, Missing: 0 (0.0%) \n",
      " > 24, Missing: 0 (0.0%) \n",
      " > 25, Missing: 0 (0.0%) \n",
      " > 26, Missing: 0 (0.0%) \n",
      " > 27, Missing: 0 (0.0%) \n"
     ]
    }
   ],
   "source": [
    "for i in range(dataframe.shape[1]):\n",
    "    # count number of rows with missing values\n",
    "    n_miss = dataframe[[i]].isnull().sum()\n",
    "    perc = n_miss / dataframe.shape[0] * 100\n",
    "    print( ' > %d, Missing: %d (%.1f%%) ' % (i, n_miss, perc))"
   ]
  },
  {
   "cell_type": "markdown",
   "metadata": {},
   "source": [
    "## Statistical Imputation\n",
    "https://machinelearningmastery.com/statistical-imputation-for-missing-values-in-machine-learning/\n",
    "\n",
    "Statistical Imputation With `SimpleImputer`\n",
    "\n",
    "The scikit-learn machine learning library provides the SimpleImputer class that supports\n",
    "statistical imputation. In this section, we will explore how to effectively use the SimpleImputer\n",
    "class."
   ]
  },
  {
   "cell_type": "code",
   "execution_count": 37,
   "metadata": {},
   "outputs": [],
   "source": [
    "# split into input and output elements\n",
    "data = dataframe.values\n",
    "ix = [i for i in range(data.shape[1]) if i != 23]\n",
    "X, y = data[:, ix], data[:, 23]"
   ]
  },
  {
   "cell_type": "code",
   "execution_count": 23,
   "metadata": {},
   "outputs": [
    {
     "name": "stdout",
     "output_type": "stream",
     "text": [
      " Missing: 0 \n",
      " Missing: 0 \n",
      " Missing: 0 \n",
      " Missing: 0 \n"
     ]
    }
   ],
   "source": [
    "from sklearn.impute import SimpleImputer\n",
    "from numpy import isnan\n",
    "strategies = [ 'mean' , 'median' , 'most_frequent' , 'constant' ]\n",
    "for s in strategies:\n",
    "    # define imputer\n",
    "    imputer = SimpleImputer(strategy=s )\n",
    "    # fit on the dataset\n",
    "    imputer.fit(X)\n",
    "    # transform the dataset\n",
    "    Xtrans = imputer.transform(X)\n",
    "    # summarize total missing\n",
    "    print( ' Missing: %d ' % sum(isnan(Xtrans).flatten()))"
   ]
  },
  {
   "cell_type": "code",
   "execution_count": 27,
   "metadata": {},
   "outputs": [
    {
     "name": "stdout",
     "output_type": "stream",
     "text": [
      " >mean 0.864 (0.053) \n",
      " >median 0.867 (0.057) \n",
      " >most_frequent 0.870 (0.048) \n",
      " >constant 0.879 (0.045) \n"
     ]
    },
    {
     "data": {
      "image/png": "[encoded data removed]",
      "text/plain": [
       "<Figure size 432x288 with 1 Axes>"
      ]
     },
     "metadata": {
      "needs_background": "light"
     },
     "output_type": "display_data"
    }
   ],
   "source": [
    "from numpy import std, mean\n",
    "from sklearn.ensemble import RandomForestClassifier\n",
    "from sklearn.impute import SimpleImputer\n",
    "from sklearn.model_selection import cross_val_score\n",
    "from sklearn.model_selection import RepeatedStratifiedKFold\n",
    "from sklearn.pipeline import Pipeline\n",
    "from matplotlib import pyplot\n",
    "\n",
    "# evaluate each strategy on the dataset\n",
    "results = list()\n",
    "strategies = [ 'mean' , 'median' , 'most_frequent' , 'constant' ]\n",
    "for s in strategies:\n",
    "    # create the modeling pipeline\n",
    "    pipeline = Pipeline(steps=[( 'i' , SimpleImputer(strategy=s)), ( 'm' ,\n",
    "    RandomForestClassifier())])\n",
    "    # evaluate the model\n",
    "    cv = RepeatedStratifiedKFold(n_splits=10, n_repeats=3, random_state=1)\n",
    "    scores = cross_val_score(pipeline, X, y, scoring= 'accuracy' , cv=cv, n_jobs=-1)\n",
    "    # store results\n",
    "    results.append(scores)\n",
    "    print( ' >%s %.3f (%.3f) ' % (s, mean(scores), std(scores)))\n",
    "# plot model performance for comparison\n",
    "pyplot.boxplot(results, labels=strategies, showmeans=True)\n",
    "pyplot.show()"
   ]
  },
  {
   "cell_type": "markdown",
   "metadata": {},
   "source": [
    "## KNN Imputation\n",
    "https://machinelearningmastery.com/knn-imputation-for-missing-values-in-machine-learning/"
   ]
  },
  {
   "cell_type": "code",
   "execution_count": 35,
   "metadata": {},
   "outputs": [
    {
     "name": "stdout",
     "output_type": "stream",
     "text": [
      " >1 0.853 (0.057) \n",
      " >3 0.857 (0.050) \n",
      " >5 0.857 (0.059) \n",
      " >7 0.866 (0.054) \n",
      " >9 0.863 (0.053) \n",
      " >15 0.867 (0.056) \n",
      " >18 0.861 (0.058) \n",
      " >21 0.860 (0.053) \n"
     ]
    },
    {
     "data": {
      "image/png": "[encoded data removed]",
      "text/plain": [
       "<Figure size 432x288 with 1 Axes>"
      ]
     },
     "metadata": {
      "needs_background": "light"
     },
     "output_type": "display_data"
    }
   ],
   "source": [
    "from sklearn.impute import KNNImputer\n",
    "# evaluate each strategy on the dataset\n",
    "results = list()\n",
    "strategies = [str(i) for i in [1,3,5,7,9,15,18,21]]\n",
    "for s in strategies:\n",
    "    # create the modeling pipeline\n",
    "    pipeline = Pipeline(steps=[( 'i' , KNNImputer(n_neighbors=int(s))), ( 'm' ,\n",
    "    RandomForestClassifier())])\n",
    "    # evaluate the model\n",
    "    cv = RepeatedStratifiedKFold(n_splits=10, n_repeats=3, random_state=1)\n",
    "    scores = cross_val_score(pipeline, X, y, scoring= 'accuracy' , cv=cv, n_jobs=-1)\n",
    "    # store results\n",
    "    results.append(scores)\n",
    "    print( ' >%s %.3f (%.3f) ' % (s, mean(scores), std(scores)))\n",
    "# plot model performance for comparison\n",
    "pyplot.boxplot(results, labels=strategies, showmeans=True)\n",
    "pyplot.show()"
   ]
  },
  {
   "cell_type": "markdown",
   "metadata": {},
   "source": [
    "## Iterative Imputation\n",
    "https://machinelearningmastery.com/iterative-imputation-for-missing-values-in-machine-learning/"
   ]
  },
  {
   "cell_type": "code",
   "execution_count": 44,
   "metadata": {},
   "outputs": [
    {
     "name": "stdout",
     "output_type": "stream",
     "text": [
      " >ascending 0.873 (0.049) \n",
      " >descending 0.870 (0.050) \n",
      " >roman 0.877 (0.056) \n",
      " >arabic 0.873 (0.050) \n",
      " >random 0.867 (0.048) \n"
     ]
    }
   ],
   "source": [
    "from sklearn.experimental import enable_iterative_imputer\n",
    "from sklearn.impute import IterativeImputer\n",
    "# evaluate each strategy on the dataset\n",
    "results = list()\n",
    "strategies = [ 'ascending' , 'descending' , 'roman' , 'arabic' , 'random' ]\n",
    "for s in strategies:\n",
    "    # create the modeling pipeline\n",
    "    pipeline = Pipeline(steps=[( ' i ' , IterativeImputer(imputation_order=s)), ( ' m ' ,\n",
    "    RandomForestClassifier())])\n",
    "    # evaluate the model\n",
    "    cv = RepeatedStratifiedKFold(n_splits=10, n_repeats=3, random_state=1)\n",
    "    scores = cross_val_score(pipeline, X, y, scoring= 'accuracy' , cv=cv, n_jobs=-1)\n",
    "    # store results\n",
    "    results.append(scores)\n",
    "    print( ' >%s %.3f (%.3f) ' % (s, mean(scores), std(scores)))\n",
    "# plot model performance for comparison\n",
    "pyplot.boxplot\n",
    "pyplot.show()"
   ]
  }
 ],
 "metadata": {
  "interpreter": {
   "hash": "19985ac8a88737d3c8b7fbc1bc9ac2991a55fab1b7ef4317ae756c7f86ac40fa"
  },
  "kernelspec": {
   "display_name": "Python 3.9.7 64-bit ('base': conda)",
   "language": "python",
   "name": "python3"
  },
  "language_info": {
   "codemirror_mode": {
    "name": "ipython",
    "version": 3
   },
   "file_extension": ".py",
   "mimetype": "text/x-python",
   "name": "python",
   "nbconvert_exporter": "python",
   "pygments_lexer": "ipython3",
   "version": "3.9.7"
  },
  "orig_nbformat": 4
 },
 "nbformat": 4,
 "nbformat_minor": 2
}
