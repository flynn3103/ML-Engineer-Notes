{
 "cells": [
  {
   "cell_type": "markdown",
   "metadata": {},
   "source": [
    "# The Failure of Accuracy\n",
    "Classification accuracy is the most-used metric for evaluating classification models. The reason\n",
    "for its wide use is because it is easy to calculate, easy to interpret, and is a single number to\n",
    "summarize the model’s capability. As such, it is natural to use it on imbalanced classification\n",
    "problems, where the distribution of examples in the training dataset across the classes is not\n",
    "equal. This is the most common mistake made by beginners to imbalanced classification.\n",
    "\n",
    "When the class distribution is slightly skewed, accuracy can still be a useful metric. When\n",
    "the skew in the class distributions are severe, accuracy can become an unreliable measure of\n",
    "model performance. The reason for this unreliability is centered around the average machine\n",
    "learning practitioner and the intuitions for classification accuracy. Typically, classification\n",
    "predictive modeling is practiced with small datasets where the class distribution is equal or very\n",
    "close to equal. Therefore, most practitioners develop an intuition that large accuracy score (or\n",
    "conversely small error rate scores) are good, and values above 90 percent are great.\n",
    "\n",
    "Achieving 90 percent classification accuracy, or even 99 percent classification accuracy, may\n",
    "be trivial on an imbalanced classification problem. This means that intuitions for classification\n",
    "accuracy developed on balanced class distributions will be applied and will be wrong, misleading\n",
    "the practitioner into thinking that a model has good or even excellent performance when it, in\n",
    "fact, does not."
   ]
  },
  {
   "cell_type": "markdown",
   "metadata": {},
   "source": [
    "## Accuracy Paradox\n",
    "\n",
    "Consider the case of an imbalanced dataset with a 1:100 class imbalance. In this problem, each\n",
    "example of the minority class (class 1) will have a corresponding 100 examples for the majority\n",
    "class (class 0). In problems of this type, the majority class represents normal and the minority\n",
    "class represents abnormal, such as a fault, a diagnosis, or a fraud. Good performance on the\n",
    "minority class will be preferred over good performance on both classes.\n",
    "\n",
    "In this problem, a model that predicts the majority class (class 0) for all examples in the\n",
    "test set will have a classification accuracy of 99 percent, mirroring the distribution of major and\n",
    "minor examples expected in the test set on average. Many machine learning models are designed\n",
    "around the assumption of balanced class distribution, and often learn simple rules (explicit or\n",
    "otherwise) like always predict the majority class, causing them to achieve an accuracy of 99\n",
    "percent, although in practice performing no better than an unskilled majority class classifier."
   ]
  },
  {
   "cell_type": "code",
   "execution_count": 1,
   "metadata": {},
   "outputs": [
    {
     "name": "stdout",
     "output_type": "stream",
     "text": [
      "Counter({0: 9900, 1: 100})\n"
     ]
    },
    {
     "data": {
      "image/png": "[encoded data removed]",
      "text/plain": [
       "<Figure size 432x288 with 1 Axes>"
      ]
     },
     "metadata": {
      "needs_background": "light"
     },
     "output_type": "display_data"
    }
   ],
   "source": [
    "# define an imbalanced dataset with a 1:100 class ratio\n",
    "from collections import Counter\n",
    "from sklearn.datasets import make_classification\n",
    "from matplotlib import pyplot\n",
    "from numpy import where\n",
    "# define dataset\n",
    "X, y = make_classification(n_samples=10000, n_features=2, n_redundant=0,\n",
    "n_clusters_per_class=1, weights=[0.99], flip_y=0, random_state=4)\n",
    "# summarize class distribution\n",
    "counter = Counter(y)\n",
    "print(counter)\n",
    "# scatter plot of examples by class label\n",
    "for label, _ in counter.items():\n",
    "    row_ix = where(y == label)[0]\n",
    "    pyplot.scatter(X[row_ix, 0], X[row_ix, 1], label=str(label))\n",
    "pyplot.legend()\n",
    "pyplot.show()"
   ]
  },
  {
   "cell_type": "code",
   "execution_count": 5,
   "metadata": {},
   "outputs": [
    {
     "name": "stdout",
     "output_type": "stream",
     "text": [
      " Mean Accuracy: 99.00% \n"
     ]
    }
   ],
   "source": [
    "from numpy import mean\n",
    "from sklearn.dummy import DummyClassifier\n",
    "from sklearn.model_selection import cross_val_score\n",
    "from sklearn.model_selection import RepeatedStratifiedKFold\n",
    "# evaluate a model using repeated k-fold cross-validation\n",
    "def evaluate_model(X, y, model):\n",
    "    # define the evaluation procedure\n",
    "    cv = RepeatedStratifiedKFold(n_splits=10, n_repeats=3, random_state=1)\n",
    "    # evaluate the model on the dataset\n",
    "    scores = cross_val_score(model, X, y, scoring= 'accuracy' , cv=cv, n_jobs=-1)\n",
    "    # return scores from each fold and each repeat\n",
    "    return scores\n",
    "\n",
    "# define model\n",
    "model = DummyClassifier(strategy= 'most_frequent' )\n",
    "# evaluate the model\n",
    "scores = evaluate_model(X, y, model)\n",
    "# summarize performance\n",
    "print( ' Mean Accuracy: %.2f%% ' % (mean(scores) * 100))"
   ]
  },
  {
   "cell_type": "markdown",
   "metadata": {},
   "source": [
    "## How to Choose an Evaluation Metric ? \n",
    "https://machinelearningmastery.com/tour-of-evaluation-metrics-for-imbalanced-classification/\n",
    "\n",
    "<img src=\"https://machinelearningmastery.com/wp-content/uploads/2019/12/How-to-Choose-a-Metric-for-Imbalanced-Classification-latest.png\">"
   ]
  },
  {
   "cell_type": "markdown",
   "metadata": {},
   "source": [
    "## Precision, Recall, and F-measure\n",
    "You may decide to use precision or recall on your imbalanced classification problem. Maximizing\n",
    "precision will minimize the number false positive errors, whereas maximizing the recall will\n",
    "minimize the number of false negative errors. As such, precision may be more appropriate on\n",
    "classification problems when false positives are more important. Alternately, recall may be more\n",
    "appropriate on classification problems when false negatives are more important.\n",
    "- Precision: Appropriate when minimizing false positives is the focus.\n",
    "- Recall: Appropriate when minimizing false negatives is the focus.\n",
    "\n",
    "Sometimes, we want excellent predictions of the positive class. We want high precision and\n",
    "high recall. This can be challenging, as often increases in recall often come at the expense of\n",
    "decreases in precision"
   ]
  },
  {
   "cell_type": "markdown",
   "metadata": {},
   "source": [
    "### F-measure\n",
    "https://machinelearningmastery.com/fbeta-measure-for-machine-learning/#:~:text=Fbeta%2Dmeasure%20is%20a%20configurable,predictions%20for%20the%20positive%20class.\n",
    "\n",
    "Fbeta = ((1 + beta^2) * Precision * Recall) / (beta^2 * Precision + Recall)\n",
    "\n",
    "Three common values for the beta parameter are as follows:\n",
    "\n",
    "- F0.5-Measure (beta=0.5): More weight on precision, less weight on recall.\n",
    "- F1-Measure (beta=1.0): Balance the weight on precision and recall.\n",
    "- F2-Measure (beta=2.0): Less weight on precision, more weight on recall\n",
    "\n",
    "The impact on the calculation for different beta values is not intuitive, at first.\n",
    "\n"
   ]
  },
  {
   "cell_type": "code",
   "execution_count": 6,
   "metadata": {},
   "outputs": [
    {
     "name": "stdout",
     "output_type": "stream",
     "text": [
      "Result: p=0.500, r=1.000, f=0.667\n"
     ]
    }
   ],
   "source": [
    "# calculate the f1-measure\n",
    "from sklearn.metrics import fbeta_score\n",
    "from sklearn.metrics import precision_score\n",
    "from sklearn.metrics import recall_score\n",
    "# perfect precision, 50% recall\n",
    "y_true = [0, 0, 0, 0, 0, 1, 1, 1, 1, 1]\n",
    "y_pred = [1, 1, 1, 1, 1, 1, 1, 1, 1, 1]\n",
    "p = precision_score(y_true, y_pred)\n",
    "r = recall_score(y_true, y_pred)\n",
    "f = fbeta_score(y_true, y_pred, beta=1.0)\n",
    "print('Result: p=%.3f, r=%.3f, f=%.3f' % (p, r, f))"
   ]
  },
  {
   "cell_type": "markdown",
   "metadata": {},
   "source": [
    "## ROC Curves and Precision-Recall Curves\n",
    "Most imbalanced classification problems involve two classes: a negative case with the majority\n",
    "of examples and a positive case with a minority of examples. Two diagnostic tools that help in\n",
    "the interpretation of binary (two-class) classification predictive models are ROC Curves and\n",
    "Precision-Recall curves.\n",
    "\n",
    "An ROC curve (or receiver operating characteristic curve) is a plot that summarizes the\n",
    "performance of a binary classification model on the positive class. The x-axis indicates the False\n",
    "Positive Rate and the y-axis indicates the True Positive Rate."
   ]
  },
  {
   "cell_type": "code",
   "execution_count": 1,
   "metadata": {},
   "outputs": [
    {
     "name": "stdout",
     "output_type": "stream",
     "text": [
      " Dataset: Class0=985, Class1=15 \n",
      " Train: Class0=492, Class1=8 \n",
      " Test: Class0=493, Class1=7 \n"
     ]
    }
   ],
   "source": [
    "# create an imbalanced dataset\n",
    "from sklearn.datasets import make_classification\n",
    "from sklearn.model_selection import train_test_split\n",
    "# generate 2 class dataset\n",
    "X, y = make_classification(n_samples=1000, n_classes=2, weights=[0.99, 0.01],\n",
    "random_state=1)\n",
    "# split into train/test sets with same class ratio\n",
    "trainX, testX, trainy, testy = train_test_split(X, y, test_size=0.5, random_state=2,\n",
    "stratify=y)\n",
    "# summarize dataset\n",
    "print( ' Dataset: Class0=%d, Class1=%d ' % (len(y[y==0]), len(y[y==1])))\n",
    "print( ' Train: Class0=%d, Class1=%d ' % (len(trainy[trainy==0]), len(trainy[trainy==1])))\n",
    "print( ' Test: Class0=%d, Class1=%d ' % (len(testy[testy==0]), len(testy[testy==1])))"
   ]
  },
  {
   "cell_type": "markdown",
   "metadata": {},
   "source": [
    "### ROC Area Under Curve (AUC) Score\n",
    "\n",
    "Although the ROC Curve is a helpful diagnostic tool, it can be challenging to compare two or\n",
    "more classifiers based on their curves. Instead, the area under the curve can be calculated to\n",
    "give a single score for a classifier model across all threshold values. This is called the ROC area\n",
    "under curve or ROC AUC or sometimes ROCAUC. The score is a value between 0.0 and 1.0,\n",
    "with 1.0 indicating a perfect classifier."
   ]
  },
  {
   "cell_type": "code",
   "execution_count": 8,
   "metadata": {},
   "outputs": [
    {
     "name": "stdout",
     "output_type": "stream",
     "text": [
      " No Skill ROC AUC 0.563 \n",
      " Logistic ROC AUC 0.869 \n"
     ]
    },
    {
     "data": {
      "image/png": "[encoded data removed]",
      "text/plain": [
       "<Figure size 432x288 with 1 Axes>"
      ]
     },
     "metadata": {
      "needs_background": "light"
     },
     "output_type": "display_data"
    }
   ],
   "source": [
    "from sklearn.metrics import roc_curve\n",
    "from sklearn.metrics import roc_auc_score\n",
    "from sklearn.linear_model import LogisticRegression\n",
    "from sklearn.dummy import DummyClassifier\n",
    "from matplotlib import pyplot\n",
    "# plot no skill and model roc curves\n",
    "def plot_roc_curve(test_y, naive_probs, model_probs):\n",
    "    # plot naive skill roc curve\n",
    "    fpr, tpr, _ = roc_curve(test_y, naive_probs)\n",
    "    pyplot.plot(fpr, tpr, linestyle= '--' , label= ' No Skill ' )\n",
    "    # plot model roc curve\n",
    "    fpr, tpr, _ = roc_curve(test_y, model_probs)\n",
    "    pyplot.plot(fpr, tpr, marker= '.' , label= ' Logistic ' )\n",
    "    # axis labels\n",
    "    pyplot.xlabel( ' False Positive Rate ' )\n",
    "    pyplot.ylabel( ' True Positive Rate ' )\n",
    "    # show the legend\n",
    "    pyplot.legend()\n",
    "    # show the plot\n",
    "    pyplot.show()\n",
    "\n",
    "# no skill model, stratified random class predictions\n",
    "model = DummyClassifier(strategy= 'stratified' )\n",
    "model.fit(trainX, trainy)\n",
    "yhat = model.predict_proba(testX)\n",
    "naive_probs = yhat[:, 1]\n",
    "# calculate roc auc\n",
    "roc_auc = roc_auc_score(testy, naive_probs)\n",
    "print( ' No Skill ROC AUC %.3f ' % roc_auc)\n",
    "# skilled model\n",
    "model = LogisticRegression(solver= 'lbfgs' )\n",
    "model.fit(trainX, trainy)\n",
    "yhat = model.predict_proba(testX)\n",
    "model_probs = yhat[:, 1]\n",
    "# calculate roc auc\n",
    "roc_auc = roc_auc_score(testy, model_probs)\n",
    "print( ' Logistic ROC AUC %.3f ' % roc_auc)\n",
    "# plot roc curves\n",
    "plot_roc_curve(testy, naive_probs, model_probs)"
   ]
  },
  {
   "cell_type": "markdown",
   "metadata": {},
   "source": [
    "### Precision-Recall Area Under Curve (AUC) Score\n",
    "\n",
    "PR Curve: Plot of Recall (x) vs Precision (y).\n",
    "\n",
    "The Precision-Recall AUC is just like the ROC AUC, in that it summarizes the curve with a\n",
    "range of threshold values as a single score. The score can then be used as a point of comparison\n",
    "between different models on a binary classification problem where a score of 1.0 represents a\n",
    "model with perfect skill. The Precision-Recall AUC score can be calculated using the auc()\n",
    "function in scikit-learn, taking the precision and recall values as arguments."
   ]
  },
  {
   "cell_type": "code",
   "execution_count": 10,
   "metadata": {},
   "outputs": [
    {
     "name": "stdout",
     "output_type": "stream",
     "text": [
      " No Skill PR AUC: 0.133 \n",
      " Logistic PR AUC: 0.228 \n"
     ]
    },
    {
     "data": {
      "image/png": "[encoded data removed]",
      "text/plain": [
       "<Figure size 432x288 with 1 Axes>"
      ]
     },
     "metadata": {
      "needs_background": "light"
     },
     "output_type": "display_data"
    }
   ],
   "source": [
    "from sklearn.metrics import precision_recall_curve, auc \n",
    "\n",
    "# plot no skill and model precision-recall curves\n",
    "def plot_pr_curve(test_y, model_probs):\n",
    "    # calculate the no skill line as the proportion of the positive class\n",
    "    no_skill = len(test_y[test_y==1]) / len(test_y)\n",
    "    # plot the no skill precision-recall curve\n",
    "    pyplot.plot([0, 1], [no_skill, no_skill], linestyle= '--' , label= ' No Skill ' )\n",
    "    # plot model precision-recall curve\n",
    "    precision, recall, _ = precision_recall_curve(testy, model_probs)\n",
    "    pyplot.plot(recall, precision, marker= '.' , label= ' Logistic ' )\n",
    "    # axis labels\n",
    "    pyplot.xlabel( ' Recall ' )\n",
    "    pyplot.ylabel( ' Precision ' )\n",
    "    # show the legend\n",
    "    pyplot.legend()\n",
    "    # show the plot\n",
    "    pyplot.show()\n",
    "\n",
    "# calculate the precision-recall auc\n",
    "precision, recall, _ = precision_recall_curve(testy, naive_probs)\n",
    "auc_score = auc(recall, precision)\n",
    "print( ' No Skill PR AUC: %.3f ' % auc_score)\n",
    "model_probs = yhat[:, 1]\n",
    "# calculate the precision-recall auc\n",
    "precision, recall, _ = precision_recall_curve(testy, model_probs)\n",
    "auc_score = auc(recall, precision)\n",
    "print( ' Logistic PR AUC: %.3f ' % auc_score)\n",
    "# plot precision-recall curves\n",
    "plot_pr_curve(testy, model_probs)"
   ]
  },
  {
   "cell_type": "markdown",
   "metadata": {},
   "source": [
    "## Probability Scoring Methods\n",
    "Classification predictive modeling involves predicting a class label for examples, although some\n",
    "problems require the prediction of a probability of class membership. For these problems, the\n",
    "crisp class labels are not required, and instead, the likelihood that each example belonging to\n",
    "each class is required and later interpreted. As such, small relative probabilities can carry a\n",
    "lot of meaning and specialized metrics are required to quantify the predicted probabilities"
   ]
  },
  {
   "cell_type": "markdown",
   "metadata": {},
   "source": [
    "### Log Loss Score\n",
    "Logarithmic loss or log loss for short is a loss function known for training the logistic regression\n",
    "classification algorithm. The log loss function calculates the negative log likelihood for probability\n",
    "predictions made by the binary classification model. Most notably, this is logistic regression,\n",
    "but this function can be used by other models, such as neural networks, and is known by other\n",
    "names, such as cross-entropy."
   ]
  },
  {
   "cell_type": "code",
   "execution_count": 7,
   "metadata": {},
   "outputs": [
    {
     "name": "stdout",
     "output_type": "stream",
     "text": [
      " P(class0=1): Log Loss=0.345 \n",
      " P(class1=1): Log Loss=34.193 \n",
      " Baseline: Log Loss=0.056 \n",
      " Perfect: Log Loss=0.000 \n"
     ]
    }
   ],
   "source": [
    "\n",
    "# log loss for naive probability predictions.\n",
    "from sklearn.datasets import make_classification\n",
    "from sklearn.model_selection import train_test_split\n",
    "from sklearn.metrics import log_loss\n",
    "# generate 2 class dataset\n",
    "X, y = make_classification(n_samples=1000, n_classes=2, weights=[0.99], flip_y=0,\n",
    "random_state=1)\n",
    "# split into train/test sets with same class ratio\n",
    "trainX, testX, trainy, testy = train_test_split(X, y, test_size=0.5, random_state=2,\n",
    "stratify=y)\n",
    "# no skill prediction 0\n",
    "probabilities = [[1, 0] for _ in range(len(testy))]\n",
    "avg_logloss = log_loss(testy, probabilities)\n",
    "print( ' P(class0=1): Log Loss=%.3f ' % (avg_logloss))\n",
    "# no skill prediction 1\n",
    "probabilities = [[0, 1] for _ in range(len(testy))]\n",
    "avg_logloss = log_loss(testy, probabilities)\n",
    "print( ' P(class1=1): Log Loss=%.3f ' % (avg_logloss))\n",
    "# baseline probabilities\n",
    "probabilities = [[0.99, 0.01] for _ in range(len(testy))]\n",
    "avg_logloss = log_loss(testy, probabilities)\n",
    "print( ' Baseline: Log Loss=%.3f ' % (avg_logloss))\n",
    "# perfect probabilities\n",
    "avg_logloss = log_loss(testy, testy)\n",
    "print( ' Perfect: Log Loss=%.3f ' % (avg_logloss))"
   ]
  },
  {
   "cell_type": "markdown",
   "metadata": {},
   "source": [
    "### Brier Score\n",
    "The Brier score, named for Glenn Brier, calculates the mean squared error between predicted\n",
    "probabilities and the expected values. The score summarizes the magnitude of the error in\n",
    "the predicted probabilities and is designed for binary classification problems. It is focused on\n",
    "evaluating the probabilities for the positive class. Nevertheless, it can be adapted for problems\n",
    "with multiple classes. It is also an appropriate probabilistic metric for imbalanced classification\n",
    "problems."
   ]
  },
  {
   "cell_type": "code",
   "execution_count": 9,
   "metadata": {},
   "outputs": [
    {
     "name": "stdout",
     "output_type": "stream",
     "text": [
      " P(class1=0): Brier Score=0.0100 \n",
      " P(class1=1): Brier Score=0.9900 \n",
      " Baseline: Brier Score=0.0099 \n",
      " Perfect: Brier Score=0.0000 \n"
     ]
    }
   ],
   "source": [
    "# brier score for naive probability predictions.\n",
    "from sklearn.datasets import make_classification\n",
    "from sklearn.model_selection import train_test_split\n",
    "from sklearn.metrics import brier_score_loss\n",
    "# generate 2 class dataset\n",
    "X, y = make_classification(n_samples=1000, n_classes=2, weights=[0.99], flip_y=0,\n",
    "random_state=1)\n",
    "# split into train/test sets with same class ratio\n",
    "trainX, testX, trainy, testy = train_test_split(X, y, test_size=0.5, random_state=2,\n",
    "stratify=y)\n",
    "# no skill prediction 0\n",
    "probabilities = [0.0 for _ in range(len(testy))]\n",
    "avg_brier = brier_score_loss(testy, probabilities)\n",
    "print( ' P(class1=0): Brier Score=%.4f ' % (avg_brier))\n",
    "# no skill prediction 1\n",
    "probabilities = [1.0 for _ in range(len(testy))]\n",
    "avg_brier = brier_score_loss(testy, probabilities)\n",
    "print( ' P(class1=1): Brier Score=%.4f ' % (avg_brier))\n",
    "# baseline probabilities\n",
    "probabilities = [0.01 for _ in range(len(testy))]\n",
    "avg_brier = brier_score_loss(testy, probabilities)\n",
    "print( ' Baseline: Brier Score=%.4f ' % (avg_brier))\n",
    "# perfect probabilities\n",
    "avg_brier = brier_score_loss(testy, testy)\n",
    "print( ' Perfect: Brier Score=%.4f ' % (avg_brier))"
   ]
  },
  {
   "cell_type": "markdown",
   "metadata": {},
   "source": [
    "## Cross-Validation for Imbalanced Datasets"
   ]
  },
  {
   "cell_type": "markdown",
   "metadata": {},
   "source": [
    "### Failure of k-Fold Cross-Validation\n",
    "Sadly, k-fold cross-validation is not appropriate for evaluating imbalanced classifiers.\n",
    "\n",
    "The reason is that the data is split into k-folds with a uniform probability distribution. This\n",
    "might work fine for data with a balanced class distribution, but when the distribution is severely\n",
    "skewed, it is likely that one or more folds will have few or no examples from the minority class.\n",
    "\n",
    "This means that some or perhaps many of the model evaluations will be misleading, as the\n",
    "model need only predict the majority class correctly."
   ]
  },
  {
   "cell_type": "markdown",
   "metadata": {},
   "source": [
    "### Fix Cross-Validation for Imbalanced Classification\n",
    "\n",
    "The solution is to not split the data randomly when using k-fold cross-validation or a train-test\n",
    "split. Specifically, we can split a dataset randomly, although in such a way that maintains the\n",
    "same class distribution in each subset. This is called stratification or stratified sampling and\n",
    "the target variable (y), the class, is used to control the sampling process\n",
    "\n",
    "For example, we can\n",
    "use a version of k-fold cross-validation that preserves the imbalanced class distribution in each\n",
    "fold. It is called stratified k-fold cross-validation and will enforce the class distribution in each\n",
    "split of the data to match the distribution in the complete training dataset."
   ]
  },
  {
   "cell_type": "code",
   "execution_count": 8,
   "metadata": {},
   "outputs": [
    {
     "name": "stdout",
     "output_type": "stream",
     "text": [
      " >Train: 0=792, 1=8, Test: 0=198, 1=2 \n",
      " >Train: 0=792, 1=8, Test: 0=198, 1=2 \n",
      " >Train: 0=792, 1=8, Test: 0=198, 1=2 \n",
      " >Train: 0=792, 1=8, Test: 0=198, 1=2 \n",
      " >Train: 0=792, 1=8, Test: 0=198, 1=2 \n"
     ]
    }
   ],
   "source": [
    "# example of stratified k-fold cross-validation with an imbalanced dataset\n",
    "from sklearn.datasets import make_classification\n",
    "from sklearn.model_selection import StratifiedKFold\n",
    "# generate 2 class dataset\n",
    "X, y = make_classification(n_samples=1000, n_classes=2, weights=[0.99, 0.01], flip_y=0,\n",
    "random_state=1)\n",
    "kfold = StratifiedKFold(n_splits=5, shuffle=True, random_state=1)\n",
    "# enumerate the splits and summarize the distributions\n",
    "for train_ix, test_ix in kfold.split(X, y):\n",
    "    # select rows\n",
    "    train_X, test_X = X[train_ix], X[test_ix]\n",
    "    train_y, test_y = y[train_ix], y[test_ix]\n",
    "    # summarize train and test composition\n",
    "    train_0, train_1 = len(train_y[train_y==0]), len(train_y[train_y==1])\n",
    "    test_0, test_1 = len(test_y[test_y==0]), len(test_y[test_y==1])\n",
    "    print( ' >Train: 0=%d, 1=%d, Test: 0=%d, 1=%d ' % (train_0, train_1, test_0, test_1))"
   ]
  }
 ],
 "metadata": {
  "interpreter": {
   "hash": "19985ac8a88737d3c8b7fbc1bc9ac2991a55fab1b7ef4317ae756c7f86ac40fa"
  },
  "kernelspec": {
   "display_name": "Python 3.9.7 ('base')",
   "language": "python",
   "name": "python3"
  },
  "language_info": {
   "codemirror_mode": {
    "name": "ipython",
    "version": 3
   },
   "file_extension": ".py",
   "mimetype": "text/x-python",
   "name": "python",
   "nbconvert_exporter": "python",
   "pygments_lexer": "ipython3",
   "version": "3.9.7"
  },
  "orig_nbformat": 4
 },
 "nbformat": 4,
 "nbformat_minor": 2
}
