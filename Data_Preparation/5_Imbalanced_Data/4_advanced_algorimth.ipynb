{
  "cells": [
    {
      "cell_type": "markdown",
      "source": [
        "## Probability Threshold Moving\n",
        "- The default threshold for interpreting probabilities to class labels is 0.5, and tuning this\n",
        "hyperparameter is called threshold moving.\n",
        "- How to calculate the optimal threshold for the ROC Curve and Precision-Recall Curve\n",
        "directly.\n",
        "- How to manually search threshold values for a chosen model and model evaluation metric."
      ],
      "metadata": {
        "id": "N1ONZakwrafR"
      }
    },
    {
      "cell_type": "markdown",
      "source": [
        "### Optimal Threshold for ROC Curve\n",
        "The curve is useful to understand the trade-off in the true-positive rate and false-positive\n",
        "rate for different thresholds. The area under the ROC Curve, so-called ROC AUC, provides\n",
        "a single number to summarize the performance of a model in terms of its ROC Curve with a\n",
        "value between 0.5 (no-skill) and 1.0 (perfect skill). The ROC Curve is a useful diagnostic tool\n",
        "for understanding the trade-off for different thresholds and the ROC AUC provides a useful\n",
        "number for comparing models based on their general capabilities.\n",
        "\n",
        "One approach would be to test the model with each threshold returned from the call\n",
        "roc auc score() and select the threshold with the largest G-mean value. Given that we\n",
        "have already calculated the Sensitivity (TPR) and the complement to the Specificity when we\n",
        "calculated the ROC Curve, we can calculate the G-mean for each threshold directly."
      ],
      "metadata": {
        "id": "Ft7QhJkttsA_"
      }
    },
    {
      "cell_type": "code",
      "source": [
        "# roc curve for logistic regression model\n",
        "from numpy import sqrt\n",
        "from numpy import argmax\n",
        "from sklearn.datasets import make_classification\n",
        "from sklearn.linear_model import LogisticRegression\n",
        "from sklearn.model_selection import train_test_split\n",
        "from sklearn.metrics import roc_curve\n",
        "from matplotlib import pyplot\n",
        "# generate dataset\n",
        "X, y = make_classification(n_samples=10000, n_features=2, n_redundant=0,\n",
        "n_clusters_per_class=1, weights=[0.99], flip_y=0, random_state=4)\n",
        "# split into train/test sets\n",
        "trainX, testX, trainy, testy = train_test_split(X, y, test_size=0.5, random_state=2,\n",
        "stratify=y)\n",
        "# fit a model\n",
        "model = LogisticRegression(solver= 'lbfgs' )\n",
        "model.fit(trainX, trainy)\n",
        "# predict probabilities\n",
        "yhat = model.predict_proba(testX)\n",
        "# keep probabilities for the positive outcome only\n",
        "yhat = yhat[:, 1]\n",
        "# calculate roc curves\n",
        "fpr, tpr, thresholds = roc_curve(testy, yhat)\n",
        "# calculate the g-mean for each threshold\n",
        "gmeans = sqrt(tpr * (1-fpr))\n",
        "# locate the index of the largest g-mean\n",
        "ix = argmax(gmeans)\n",
        "print( ' Best Threshold=%f, G-mean=%.3f ' % (thresholds[ix], gmeans[ix]))\n",
        "# plot the roc curve for the model\n",
        "pyplot.plot([0,1], [0,1], linestyle= '--' , label= ' No Skill ' )\n",
        "pyplot.plot(fpr, tpr, marker= '.' , label= ' Logistic ' )\n",
        "pyplot.scatter(fpr[ix], tpr[ix], marker= 'o' , color= 'black' , label= 'Best' )\n",
        "# axis labels\n",
        "pyplot.xlabel( ' False Positive Rate ' )\n",
        "pyplot.ylabel( ' True Positive Rate ' )\n",
        "pyplot.legend()\n",
        "# show the plot\n",
        "pyplot.show()"
      ],
      "metadata": {
        "colab": {
          "base_uri": "https://localhost:8080/",
          "height": 296
        },
        "id": "JHV3TPaYuFPd",
        "outputId": "0af0dcec-d33a-4b2a-e021-520870a4a803"
      },
      "execution_count": 4,
      "outputs": [
        {
          "output_type": "stream",
          "name": "stdout",
          "text": [
            " Best Threshold=0.016153, G-mean=0.933 \n"
          ]
        },
        {
          "output_type": "display_data",
          "data": {
            "image/png": "[encoded data removed]",
            "text/plain": [
              "<Figure size 432x288 with 1 Axes>"
            ]
          },
          "metadata": {
            "needs_background": "light"
          }
        }
      ]
    },
    {
      "cell_type": "markdown",
      "source": [
        ""
      ],
      "metadata": {
        "id": "T0M96KCAt4bd"
      }
    },
    {
      "cell_type": "code",
      "source": [
        "# optimal threshold for precision-recall curve with logistic regression model\n",
        "from numpy import argmax\n",
        "from sklearn.datasets import make_classification\n",
        "from sklearn.linear_model import LogisticRegression\n",
        "from sklearn.model_selection import train_test_split\n",
        "from sklearn.metrics import precision_recall_curve\n",
        "from matplotlib import pyplot\n",
        "# generate dataset\n",
        "X, y = make_classification(n_samples=10000, n_features=2, n_redundant=0,\n",
        "n_clusters_per_class=1, weights=[0.99], flip_y=0, random_state=4)\n",
        "# split into train/test sets\n",
        "trainX, testX, trainy, testy = train_test_split(X, y, test_size=0.5, random_state=2,\n",
        "stratify=y)\n",
        "# fit a model\n",
        "model = LogisticRegression(solver= 'lbfgs' )\n",
        "model.fit(trainX, trainy)\n",
        "# predict probabilities\n",
        "yhat = model.predict_proba(testX)\n",
        "# keep probabilities for the positive outcome only\n",
        "yhat = yhat[:, 1]\n",
        "# calculate roc curves\n",
        "precision, recall, thresholds = precision_recall_curve(testy, yhat)\n",
        "# convert to f-measure\n",
        "fscore = (2 * precision * recall) / (precision + recall)\n",
        "# locate the index of the largest f-measure\n",
        "ix = argmax(fscore)\n",
        "print( ' Best Threshold=%f, F-measure=%.3f ' % (thresholds[ix], fscore[ix]))\n",
        "# plot the roc curve for the model\n",
        "no_skill = len(testy[testy==1]) / len(testy)\n",
        "pyplot.plot([0,1], [no_skill,no_skill], linestyle= '--' , label= ' No Skill ' )\n",
        "pyplot.plot(recall, precision, marker= '.' , label= ' Logistic ' )\n",
        "pyplot.scatter(recall[ix], precision[ix], marker= 'o' , color= 'black' , label= ' Best ' )\n",
        "# axis labels\n",
        "pyplot.xlabel( ' Recall ' )\n",
        "pyplot.ylabel( ' Precision ' )\n",
        "pyplot.legend()\n",
        "# show the plot\n",
        "pyplot.show()"
      ],
      "metadata": {
        "colab": {
          "base_uri": "https://localhost:8080/",
          "height": 296
        },
        "id": "GoEsys4Ku_Ln",
        "outputId": "31a522f5-ac95-40ae-e47b-857f7eca26cc"
      },
      "execution_count": 5,
      "outputs": [
        {
          "output_type": "stream",
          "name": "stdout",
          "text": [
            " Best Threshold=0.256036, F-measure=0.756 \n"
          ]
        },
        {
          "output_type": "display_data",
          "data": {
            "image/png": "[encoded data removed]",
            "text/plain": [
              "<Figure size 432x288 with 1 Axes>"
            ]
          },
          "metadata": {
            "needs_background": "light"
          }
        }
      ]
    },
    {
      "cell_type": "markdown",
      "source": [
        "### Optimal Threshold Tuning\n",
        "Sometimes, we simply have a model and we wish to know the best threshold directly. In this\n",
        "case, we can define a set of thresholds and then evaluate predicted probabilities under each in\n",
        "order to find and select the optimal threshold. We can demonstrate this with a worked example."
      ],
      "metadata": {
        "id": "mhmT3rISxmA9"
      }
    },
    {
      "cell_type": "code",
      "source": [
        "# search thresholds for imbalanced classification\n",
        "from numpy import arange\n",
        "from numpy import argmax\n",
        "from sklearn.datasets import make_classification\n",
        "from sklearn.linear_model import LogisticRegression\n",
        "from sklearn.model_selection import train_test_split\n",
        "from sklearn.metrics import f1_score\n",
        "# apply threshold to positive probabilities to create labels\n",
        "def to_labels(pos_probs, threshold):\n",
        "  return (pos_probs >= threshold).astype( 'int' )\n",
        "# generate dataset\n",
        "X, y = make_classification(n_samples=10000, n_features=2, n_redundant=0,\n",
        "n_clusters_per_class=1, weights=[0.99], flip_y=0, random_state=4)\n",
        "# split into train/test sets\n",
        "trainX, testX, trainy, testy = train_test_split(X, y, test_size=0.5, random_state=2,\n",
        "stratify=y)\n",
        "# fit a model\n",
        "model = LogisticRegression(solver= 'lbfgs' )\n",
        "model.fit(trainX, trainy)\n",
        "# predict probabilities\n",
        "yhat = model.predict_proba(testX)\n",
        "# keep probabilities for the positive outcome only\n",
        "probs = yhat[:, 1]\n",
        "# define thresholds\n",
        "thresholds = arange(0, 1, 0.001)\n",
        "# evaluate each threshold\n",
        "scores = [f1_score(testy, to_labels(probs, t)) for t in thresholds]\n",
        "# get best threshold\n",
        "ix = argmax(scores)\n",
        "print( ' Threshold=%.3f, F-measure=%.5f ' % (thresholds[ix], scores[ix]))"
      ],
      "metadata": {
        "colab": {
          "base_uri": "https://localhost:8080/"
        },
        "id": "vdVTtw9nxnAK",
        "outputId": "c2af8902-a8dd-4c46-c5e4-3b4cc1d7db4b"
      },
      "execution_count": 6,
      "outputs": [
        {
          "output_type": "stream",
          "name": "stdout",
          "text": [
            " Threshold=0.251, F-measure=0.75556 \n"
          ]
        }
      ]
    },
    {
      "cell_type": "markdown",
      "source": [
        "## Probability Calibration\n",
        "- Calibrated probabilities are required to get the most out of models for imbalanced\n",
        "classification problems.\n",
        "- How to calibrate predicted probabilities for nonlinear models like SVMs, decision trees,\n",
        "and KNN.\n",
        "- How to grid search different probability calibration methods on a dataset with a skewed\n",
        "class distribution."
      ],
      "metadata": {
        "id": "ZrSrF4bfyXGk"
      }
    },
    {
      "cell_type": "markdown",
      "source": [
        "### Problem of Uncalibrated Probabilities\n",
        "As such, using machine learning models that predict probabilities is generally preferred when\n",
        "working on imbalanced classification tasks. The problem is that few machine learning models\n",
        "have calibrated probabilities.\n",
        "\n",
        "Calibrated probabilities means that the probability reflects the likelihood of true events. This\n",
        "might be confusing if you consider that in classification, we have class labels that are correct or\n",
        "not instead of probabilities. To clarify, recall that in binary classification, we are predicting a\n",
        "negative or positive case as class 0 or 1. If 100 examples are predicted with a probability of\n",
        "0.8, then 80 percent of the examples will have class 1 and 20 percent will have class 0, if the\n",
        "probabilities are calibrated. \n",
        "\n",
        "- Calibrated Probabilities. Probabilities match the true likelihood of events.\n",
        "- Uncalibrated Probabilities. Probabilities are over-confident and/or under-confident."
      ],
      "metadata": {
        "id": "2AenqJY8yg1-"
      }
    },
    {
      "cell_type": "markdown",
      "source": [
        "### SVM With Calibrated Probabilities\n",
        "\n",
        "We will define the SVM model as before, then define\n",
        "the CalibratedClassifierCV with isotonic regression, then evaluate the calibrated model via\n",
        "repeated stratified k-fold cross-validation."
      ],
      "metadata": {
        "id": "KWgd8RNfyzOR"
      }
    },
    {
      "cell_type": "code",
      "source": [
        "# evaluate weighted svm with calibrated probabilities for imbalanced classification\n",
        "from numpy import mean\n",
        "from sklearn.datasets import make_classification\n",
        "from sklearn.model_selection import cross_val_score\n",
        "from sklearn.model_selection import RepeatedStratifiedKFold\n",
        "from sklearn.calibration import CalibratedClassifierCV\n",
        "from sklearn.svm import SVC\n",
        "from sklearn.tree import DecisionTreeClassifier\n",
        "\n",
        "# generate dataset\n",
        "X, y = make_classification(n_samples=10000, n_features=2, n_redundant=0,\n",
        "n_clusters_per_class=1, weights=[0.99], flip_y=0, random_state=4)\n",
        "# define model\n",
        "model = SVC(gamma= 'scale' , class_weight= 'balanced' )\n",
        "#model = DecisionTreeClassifier()\n",
        "\n",
        "# wrap the model\n",
        "calibrated = CalibratedClassifierCV(model, method= 'isotonic' , cv=3)\n",
        "#calibrated = CalibratedClassifierCV(model, method= ' sigmoid ' , cv=3)\n",
        "\n",
        "# define evaluation procedure\n",
        "cv = RepeatedStratifiedKFold(n_splits=10, n_repeats=3, random_state=1)\n",
        "# evaluate model\n",
        "scores = cross_val_score(calibrated, X, y, scoring= ' roc_auc ' , cv=cv, n_jobs=-1)\n",
        "# summarize performance\n",
        "print( ' Mean ROC AUC: %.3f ' % mean(scores))"
      ],
      "metadata": {
        "id": "jCLE_SALy4Ye"
      },
      "execution_count": null,
      "outputs": []
    },
    {
      "cell_type": "markdown",
      "source": [
        "### Grid Search Probability Calibration With KNN\n",
        "The k-nearest neighbor, or KNN, algorithm is another nonlinear machine learning algorithm\n",
        "that predicts a class label directly and must be modified to produce a probability-like score.\n",
        "This often involves using the distribution of class labels in the neighborhood."
      ],
      "metadata": {
        "id": "kDYckQKqzboo"
      }
    },
    {
      "cell_type": "code",
      "source": [
        "# grid search probability calibration with knn for imbalanced classification\n",
        "from numpy import mean\n",
        "from sklearn.datasets import make_classification\n",
        "from sklearn.model_selection import GridSearchCV\n",
        "from sklearn.model_selection import RepeatedStratifiedKFold\n",
        "from sklearn.neighbors import KNeighborsClassifier\n",
        "from sklearn.calibration import CalibratedClassifierCV\n",
        "# generate dataset\n",
        "X, y = make_classification(n_samples=10000, n_features=2, n_redundant=0,\n",
        "n_clusters_per_class=1, weights=[0.99], flip_y=0, random_state=4)\n",
        "# define model\n",
        "model = KNeighborsClassifier()\n",
        "# wrap the model\n",
        "calibrated = CalibratedClassifierCV(model)\n",
        "# define grid\n",
        "param_grid = dict(cv=[2,3,4], method=[ 'sigmoid' , 'isotonic' ])\n",
        "# define evaluation procedure\n",
        "cv = RepeatedStratifiedKFold(n_splits=10, n_repeats=3, random_state=1)\n",
        "# define grid search\n",
        "grid = GridSearchCV(estimator=calibrated, param_grid=param_grid, n_jobs=-1, cv=cv,\n",
        "scoring= 'roc_auc' )\n",
        "# execute the grid search\n",
        "grid_result = grid.fit(X, y)\n",
        "# report the best configuration\n",
        "print( ' Best: %f using %s ' % (grid_result.best_score_, grid_result.best_params_))\n",
        "# report all configurations\n",
        "means = grid_result.cv_results_[ 'mean_test_score' ]\n",
        "stds = grid_result.cv_results_[ 'std_test_score' ]\n",
        "params = grid_result.cv_results_[ 'params' ]\n",
        "for mean, stdev, param in zip(means, stds, params):\n",
        "  print( ' %f (%f) with: %r ' % (mean, stdev, param))"
      ],
      "metadata": {
        "colab": {
          "base_uri": "https://localhost:8080/"
        },
        "id": "MKipeQNozpmY",
        "outputId": "e60c5ed0-b288-4808-d8a9-49f327d1dc79"
      },
      "execution_count": 8,
      "outputs": [
        {
          "output_type": "stream",
          "name": "stdout",
          "text": [
            " Best: 0.895029 using {'cv': 2, 'method': 'sigmoid'} \n",
            " 0.895029 (0.066617) with: {'cv': 2, 'method': 'sigmoid'} \n",
            " 0.893549 (0.065846) with: {'cv': 2, 'method': 'isotonic'} \n",
            " 0.886835 (0.070207) with: {'cv': 3, 'method': 'sigmoid'} \n",
            " 0.885104 (0.071671) with: {'cv': 3, 'method': 'isotonic'} \n",
            " 0.885167 (0.071732) with: {'cv': 4, 'method': 'sigmoid'} \n",
            " 0.877146 (0.077137) with: {'cv': 4, 'method': 'isotonic'} \n"
          ]
        }
      ]
    }
  ],
  "metadata": {
    "language_info": {
      "name": "python"
    },
    "orig_nbformat": 4,
    "colab": {
      "name": "4_advanced_algorimth.ipynb",
      "provenance": [],
      "toc_visible": true
    },
    "kernelspec": {
      "name": "python3",
      "display_name": "Python 3"
    }
  },
  "nbformat": 4,
  "nbformat_minor": 0
}