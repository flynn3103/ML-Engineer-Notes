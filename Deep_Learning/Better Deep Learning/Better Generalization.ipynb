{
 "cells": [
  {
   "cell_type": "markdown",
   "metadata": {},
   "source": [
    "# Introduction to fix Overfitting With Regularization\n",
    "https://machinelearningmastery.com/introduction-to-regularization-to-reduce-overfitting-and-improve-generalization-error/"
   ]
  },
  {
   "cell_type": "markdown",
   "metadata": {},
   "source": [
    "# Introduction to Weight Regularization\n",
    "https://machinelearningmastery.com/weight-regularization-to-reduce-overfitting-of-deep-learning-models/\n",
    "\n",
    "*A change to the loss function that penalizes a model in\n",
    "proportion to the norm (magnitude) of the model weights, encouraging smaller weights\n",
    "and, in turn, a lower complexity model*"
   ]
  },
  {
   "cell_type": "markdown",
   "metadata": {},
   "source": [
    "# Penalize Large Weights With Weight Regularization\n",
    "https://machinelearningmastery.com/how-to-reduce-overfitting-in-deep-learning-with-weight-regularization/"
   ]
  },
  {
   "cell_type": "markdown",
   "metadata": {},
   "source": [
    "# Introduction to Activation Regularization\n",
    "https://machinelearningmastery.com/activation-regularization-for-reducing-generalization-error-in-deep-learning-neural-networks/\n",
    "\n",
    "*A change to the loss function that penalizes a model in\n",
    "proportion to the norm (magnitude) of the layer activations, encouraging smaller or more\n",
    "sparse internal representations*"
   ]
  },
  {
   "cell_type": "markdown",
   "metadata": {},
   "source": [
    "# Penalize Large Activity With Activity Regularization\n",
    "https://machinelearningmastery.com/how-to-reduce-generalization-error-in-deep-neural-networks-with-activity-regularization-in-keras/"
   ]
  },
  {
   "cell_type": "markdown",
   "metadata": {},
   "source": [
    "# Introduction to Weight Constraints\n",
    "https://machinelearningmastery.com/introduction-to-weight-constraints-to-reduce-generalization-error-in-deep-learning/\n",
    "\n",
    "*Update to the model to rescale the weights when the vector norm\n",
    "of the weights exceeds a threshold*"
   ]
  },
  {
   "cell_type": "markdown",
   "metadata": {},
   "source": [
    "# Force Small Weights With Weight Constraints\n",
    "https://machinelearningmastery.com/how-to-reduce-overfitting-in-deep-neural-networks-with-weight-constraints-in-keras/"
   ]
  },
  {
   "cell_type": "markdown",
   "metadata": {},
   "source": [
    "# Introduction to Dropout\n",
    "https://machinelearningmastery.com/dropout-for-regularizing-deep-neural-networks/\n",
    "\n",
    "*Probabilistically removing connections (weights) while training the network to\n",
    "break tight coupling between nodes across layers*"
   ]
  },
  {
   "cell_type": "markdown",
   "metadata": {},
   "source": [
    "# Decouple Layers With Dropout\n",
    "https://machinelearningmastery.com/how-to-reduce-overfitting-with-dropout-regularization-in-keras/"
   ]
  },
  {
   "cell_type": "markdown",
   "metadata": {},
   "source": [
    "# Introduction to Noise\n",
    "https://machinelearningmastery.com/train-neural-networks-with-noise-to-reduce-overfitting/\n",
    "\n",
    "*Addition of statistical variation or noise at the input layer or between\n",
    "hidden layers to reduce the model’s dependence on specific input values*"
   ]
  },
  {
   "cell_type": "markdown",
   "metadata": {},
   "source": [
    "# Promote Robustness With Noise\n",
    "https://machinelearningmastery.com/how-to-improve-deep-learning-model-robustness-by-adding-noise/"
   ]
  },
  {
   "cell_type": "markdown",
   "metadata": {},
   "source": [
    "# Introduction to Early Stopping\n",
    "https://machinelearningmastery.com/early-stopping-to-avoid-overtraining-neural-network-models/\n",
    "\n",
    "*Monitor model performance on the hold out validation dataset during\n",
    "training and stop the training process when performance on the validation set starts to\n",
    "degrade*"
   ]
  },
  {
   "cell_type": "markdown",
   "metadata": {},
   "source": [
    "# End on a High Note With Early Stopping\n",
    "https://machinelearningmastery.com/how-to-stop-training-deep-neural-networks-at-the-right-time-using-early-stopping/"
   ]
  }
 ],
 "metadata": {
  "interpreter": {
   "hash": "916dbcbb3f70747c44a77c7bcd40155683ae19c65e1c03b4aa3499c5328201f1"
  },
  "kernelspec": {
   "display_name": "Python 3.9.5 64-bit",
   "language": "python",
   "name": "python3"
  },
  "language_info": {
   "name": "python",
   "version": "3.9.5"
  },
  "orig_nbformat": 4
 },
 "nbformat": 4,
 "nbformat_minor": 2
}
