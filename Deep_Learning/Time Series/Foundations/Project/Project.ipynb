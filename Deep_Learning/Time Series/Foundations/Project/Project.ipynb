{
 "cells": [
  {
   "cell_type": "markdown",
   "metadata": {},
   "source": [
    "# How to Work Through a Time Series Forecast Project\n",
    "https://machinelearningmastery.com/work-time-series-forecast-project/"
   ]
  },
  {
   "cell_type": "markdown",
   "metadata": {},
   "source": [
    "# Project: Monthly Armed Robberies in Boston\n",
    "https://machinelearningmastery.com/time-series-forecast-case-study-python-monthly-armed-robberies-boston/"
   ]
  },
  {
   "cell_type": "markdown",
   "metadata": {},
   "source": [
    "# Project: Annual Water Usage in Baltimore\n",
    "https://machinelearningmastery.com/time-series-forecast-study-python-annual-water-usage-baltimore/"
   ]
  },
  {
   "cell_type": "markdown",
   "metadata": {},
   "source": [
    "# Project: Monthly Sales of French Champagne\n",
    "https://machinelearningmastery.com/time-series-forecast-study-python-monthly-sales-french-champagne/"
   ]
  }
 ],
 "metadata": {
  "interpreter": {
   "hash": "916dbcbb3f70747c44a77c7bcd40155683ae19c65e1c03b4aa3499c5328201f1"
  },
  "kernelspec": {
   "display_name": "Python 3.9.5 64-bit",
   "language": "python",
   "name": "python3"
  },
  "language_info": {
   "name": "python",
   "version": "3.9.5"
  },
  "orig_nbformat": 4
 },
 "nbformat": 4,
 "nbformat_minor": 2
}
